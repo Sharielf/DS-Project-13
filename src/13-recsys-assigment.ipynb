{
 "cells": [
  {
   "cell_type": "markdown",
   "metadata": {
    "id": "QovT45u4cpGF"
   },
   "source": [
    "# Recommendation System"
   ]
  },
  {
   "cell_type": "markdown",
   "metadata": {},
   "source": [
    "## Задание 1"
   ]
  },
  {
   "cell_type": "markdown",
   "metadata": {},
   "source": [
    "Объедини общие данные о фильмах [tmdb_5000_movies](https://files.sberdisk.ru/s/te4QbzdxKgsFQXA) и каст фильмов \n",
    "[tmdb_5000_credits](https://files.sberdisk.ru/s/H9oRuXQt5mFz3T9). Оставь в датасете только фильмы, которые вышли в \"релиз\".\\\n",
    "Выведи количество фильмов, оставшихся после фильтрации."
   ]
  },
  {
   "cell_type": "code",
   "execution_count": 1,
   "metadata": {},
   "outputs": [
    {
     "name": "stdout",
     "output_type": "stream",
     "text": [
      "Количество фильмов после фильтрации: 4795\n"
     ]
    }
   ],
   "source": [
    "import pandas as pd\n",
    "\n",
    "#Загрузка данных о фильмах\n",
    "credits_data = pd.read_csv('../datasets/tmdb_5000_credits.csv')\n",
    "movies_data = pd.read_csv('../datasets/tmdb_5000_movies.csv')\n",
    "\n",
    "#Объединение данных о фильмах и касте фильмов\n",
    "dataset = pd.merge(movies_data, credits_data, left_on='id', right_on='movie_id')\n",
    "\n",
    "#Фильтрация фильмов, которые вышли в \"релиз\"\n",
    "released_movies = dataset[dataset['status'] == 'Released']\n",
    "\n",
    "#Вывод количества оставшихся фильмов\n",
    "num_movies = len(released_movies)\n",
    "print(f\"Количество фильмов после фильтрации: {num_movies}\")\n"
   ]
  },
  {
   "cell_type": "markdown",
   "metadata": {},
   "source": [
    "## Задание 2"
   ]
  },
  {
   "cell_type": "markdown",
   "metadata": {},
   "source": [
    "Самый наивный подход к рекомендации фильмов - рекомендовать фильмы с лучшими оценками пользователей. Фильмы, которые пользуются большей популярностью и признанием критиков, с большей вероятностью понравятся среднему зрителю."
   ]
  },
  {
   "cell_type": "markdown",
   "metadata": {},
   "source": [
    "Для справедливой оценки фильмов возьмем текущую рейтинговую систему IMDB (weighted rating (WR)), которая рассчитывается по формуле:\n",
    "$$WR = \\frac{v}{v + m} ⋅ R + \\frac{m}{v + m} ⋅ C$$ \n",
    "$v$ - количество голосов \\\n",
    "$m$ - количество голосов для включения в финальную таблицу \\\n",
    "$R$ - средняя оценка \\\n",
    "$C$ - средняя оценка всех фильмов \n",
    "\n",
    "Имплементируй функцию `weighted_rating`. С её помощью расcчитай рейтинг для каждого фильма и сохрани его в колонку `simple_score`.\\\n",
    "Выведи топ-5 фильмов по получившемуся рейтингу.\n",
    "> В качестве параметра $m$ выбери 95-й квантиль количества голосов."
   ]
  },
  {
   "cell_type": "code",
   "execution_count": 2,
   "metadata": {},
   "outputs": [],
   "source": [
    "def weighted_rating():\n",
    "    pass "
   ]
  },
  {
   "cell_type": "code",
   "execution_count": 3,
   "metadata": {},
   "outputs": [
    {
     "name": "stdout",
     "output_type": "stream",
     "text": [
      "                original_title  simple_score\n",
      "1881  The Shawshank Redemption      7.849025\n",
      "65             The Dark Knight      7.773990\n",
      "662                 Fight Club      7.761012\n",
      "96                   Inception      7.736496\n",
      "3232              Pulp Fiction      7.714726\n"
     ]
    },
    {
     "name": "stderr",
     "output_type": "stream",
     "text": [
      "C:\\Users\\evpet\\AppData\\Local\\Temp\\ipykernel_18392\\1998319820.py:13: SettingWithCopyWarning: \n",
      "A value is trying to be set on a copy of a slice from a DataFrame.\n",
      "Try using .loc[row_indexer,col_indexer] = value instead\n",
      "\n",
      "See the caveats in the documentation: https://pandas.pydata.org/pandas-docs/stable/user_guide/indexing.html#returning-a-view-versus-a-copy\n",
      "  released_movies['simple_score'] = released_movies.apply(lambda x: weighted_rating(x, m, C), axis=1)\n"
     ]
    }
   ],
   "source": [
    "#Импорт необходимых библиотек\n",
    "import numpy as np\n",
    "\n",
    "#Реализация функции weighted_rating\n",
    "def weighted_rating(x, m, C):\n",
    "    vote_count = x['vote_count']\n",
    "    vote_average = x['vote_average']\n",
    "    return (vote_count / (vote_count + m) * vote_average) + (m / (m + vote_count) * C)\n",
    "\n",
    "#Рассчет рейтинга для каждого фильма\n",
    "m = released_movies['vote_count'].quantile(0.95)\n",
    "C = released_movies['vote_average'].mean()\n",
    "released_movies['simple_score'] = released_movies.apply(lambda x: weighted_rating(x, m, C), axis=1)\n",
    "\n",
    "#Вывод топ-5 фильмов по рейтингу\n",
    "top_movies = released_movies.nlargest(5, 'simple_score')\n",
    "print(top_movies[['original_title', 'simple_score']])"
   ]
  },
  {
   "cell_type": "markdown",
   "metadata": {},
   "source": [
    "## Задание 3"
   ]
  },
  {
   "cell_type": "markdown",
   "metadata": {},
   "source": [
    "Такой подход к рекомендациям очень наивен, так как не учитывает информацию о самом фильме (жанр, режиссер, описание, актеры и т.п). \\\n",
    "**Content Based Filtering** (Фильтрация на основе содержания) - тип рекомендательной системы, которая предлагает пользователям похожие элементы на основе конкретного элемента. Общая идея этих рекомендательных систем заключается в том, что если человеку понравился определенный товар, то ему понравится и похожий на него товар."
   ]
  },
  {
   "cell_type": "markdown",
   "metadata": {},
   "source": [
    "<center><img src=\"../misc/images/content.png\" alt= “” width=\"300\" height=\"500\">"
   ]
  },
  {
   "cell_type": "markdown",
   "metadata": {},
   "source": [
    "Реализуем алгоритм рекомендации на основе описания фильма. Для это требуется провести предобработку текста:\n",
    "* Замени NaN в описании фильма на пустой символ `''`\n",
    "* Удали все английские стоп слова (используй параметр `stop_words` в `TfidfVectorizer`)\n",
    "* Расcчитай [Tf-Idf](https://scikit-learn.org/stable/modules/generated/sklearn.feature_extraction.text.TfidfVectorizer.html) для описания фильма\n",
    "\n",
    "Выведи размер получившейся матрицы Tf-Idf\n",
    "\n",
    "> Для [TfidfVectorizer](https://scikit-learn.org/stable/modules/generated/sklearn.feature_extraction.text.TfidfVectorizer.html) используйте параметры по умолчанию "
   ]
  },
  {
   "cell_type": "code",
   "execution_count": 4,
   "metadata": {},
   "outputs": [
    {
     "name": "stdout",
     "output_type": "stream",
     "text": [
      "Размер матрицы Tf-Idf: (4795, 20970)\n"
     ]
    }
   ],
   "source": [
    "from sklearn.feature_extraction.text import TfidfVectorizer\n",
    "\n",
    "#Замена NaN в описании фильма на пустой символ ''\n",
    "released_movies.loc[:, 'overview'] = released_movies.loc[:, 'overview'].fillna('')\n",
    "\n",
    "#Создание объекта TfidfVectorizer\n",
    "tfidf = TfidfVectorizer(stop_words='english')\n",
    "\n",
    "#Расчет Tf-Idf для описания фильма\n",
    "tfidf_matrix = tfidf.fit_transform(released_movies['overview'])\n",
    "\n",
    "#Вывод размера матрицы Tf-Idf\n",
    "print(f\"Размер матрицы Tf-Idf: {tfidf_matrix.shape}\")"
   ]
  },
  {
   "cell_type": "markdown",
   "metadata": {},
   "source": [
    "## Задание 4"
   ]
  },
  {
   "cell_type": "markdown",
   "metadata": {},
   "source": [
    "Теперь тебе необходимо вычислить показатель сходства между описаниями фильмов. Используем косинусное расстояние, оно рассчитывается по формуле:\n",
    "$$cos(Θ) = \\frac{A ⋅ B}{∥A∥ ∥B∥} = \\frac{ Σ_{i=1}^{n} A_i ⋅ B_i } { \\sqrt{Σ_{i=1}^{n}A_{i}^{2}} ⋅ {\\sqrt{Σ_{i=1}^{n}B_{i}^{2}}}}$$\n",
    "Но поскольку мы использовали векторизатор TF-IDF на предыдущем шаге, достаточно вычислить скалярное произведение, которое и даст оценку косинусного сходства. Рассчитать его можно через [linear_kernel](https://scikit-learn.org/stable/modules/generated/sklearn.metrics.pairwise.linear_kernel.html). Результат сохрани в переменную `cosine_sim`.\n",
    "\n",
    "Выведи размер получившейся матрицы `cosine_sim`."
   ]
  },
  {
   "cell_type": "code",
   "execution_count": 5,
   "metadata": {},
   "outputs": [
    {
     "name": "stdout",
     "output_type": "stream",
     "text": [
      "Размер матрицы cosine_sim: (4795, 4795)\n"
     ]
    }
   ],
   "source": [
    "from sklearn.metrics.pairwise import linear_kernel\n",
    "\n",
    "#Рассчет скалярного произведения для расчета показателя сходства\n",
    "cosine_sim = linear_kernel(tfidf_matrix, tfidf_matrix)\n",
    "\n",
    "#Вывод размера матрицы cosine_sim\n",
    "print(f\"Размер матрицы cosine_sim: {cosine_sim.shape}\")\n",
    "\n"
   ]
  },
  {
   "cell_type": "markdown",
   "metadata": {},
   "source": [
    "## Задание 5"
   ]
  },
  {
   "cell_type": "markdown",
   "metadata": {},
   "source": [
    "Напиши функцию `get_recommendations`. На вход она принимает:\n",
    "* `movies_dataset` - датасет фильмов\n",
    "* `title` - название фильма, для которого мы будем искать похожие\n",
    "* `cosine_sim` - матрица расстояний между описаниями\n",
    "* `top_k` - топ-k cхожих фильмов\n",
    "\n",
    "Возвращает top_k названий фильмов, описание которых похоже на выбранный фильм.\\\n",
    "Выведи топ-5 фильмов для `title='Saving Private Ryan'`"
   ]
  },
  {
   "cell_type": "code",
   "execution_count": 6,
   "metadata": {},
   "outputs": [],
   "source": [
    "def get_recommendations(movies_dataset, title, cosine_sim, top_k=10):\n",
    "    pass "
   ]
  },
  {
   "cell_type": "code",
   "execution_count": 7,
   "metadata": {},
   "outputs": [
    {
     "name": "stdout",
     "output_type": "stream",
     "text": [
      "787        The Great Raid\n",
      "586     The Monuments Men\n",
      "290     The Expendables 2\n",
      "4168            Abandoned\n",
      "3516            The Train\n",
      "Name: title, dtype: object\n"
     ]
    }
   ],
   "source": [
    "from sklearn.feature_extraction.text import TfidfVectorizer\n",
    "from sklearn.metrics.pairwise import cosine_similarity\n",
    "\n",
    "def get_recommendations(movies_dataset, title, cosine_sim, top_k=10):\n",
    "    # Получение индекса фильма по названию\n",
    "    idx = movies_dataset[movies_dataset['title'] == title].index[0]\n",
    "\n",
    "    # Получение оценок похожести фильмов на выбранный фильм\n",
    "    sim_scores = list(enumerate(cosine_sim[idx]))\n",
    "\n",
    "    # Сортировка фильмов по оценкам похожести в убывающем порядке\n",
    "    sim_scores = sorted(sim_scores, key=lambda x: x[1], reverse=True)\n",
    "\n",
    "    # Получение индексов топ-K похожих фильмов\n",
    "    top_indexes = [i[0] for i in sim_scores[1:top_k+1]]\n",
    "\n",
    "    # Получение названий топ-K похожих фильмов\n",
    "    top_movies = movies_dataset.iloc[top_indexes]['title']\n",
    "\n",
    "    return top_movies\n",
    "\n",
    "# Загрузка датасета\n",
    "movies_dataset = pd.read_csv('../datasets/tmdb_5000_movies.csv')\n",
    "\n",
    "\n",
    "# Создание матрицы расстояний\n",
    "tfidf = TfidfVectorizer(stop_words='english')\n",
    "tfidf_matrix = tfidf.fit_transform(movies_dataset['overview'].fillna(''))\n",
    "cosine_sim = cosine_similarity(tfidf_matrix, tfidf_matrix)\n",
    "\n",
    "# Вызов функции и вывод результатов\n",
    "title = 'Saving Private Ryan'\n",
    "top_movies = get_recommendations(movies_dataset, title, cosine_sim, top_k=5)\n",
    "print(top_movies)"
   ]
  },
  {
   "cell_type": "markdown",
   "metadata": {},
   "source": [
    "## Задание 6"
   ]
  },
  {
   "cell_type": "markdown",
   "metadata": {},
   "source": [
    "Еще один подход к построению рекомендательной системы - подход на основе сходства между пользователями. Этот подход называется **Collaborative Filtering** (Коллаборативная фильтрация).\n",
    "<center><img src=\"../misc/images/all.png\" alt= “” width=\"600\" height=\"700\"></center>\n",
    "Коллаборативная фильтрация - это тип рекомендательной системы, которая использует поведение и предпочтения похожих пользователей для рекомендации товаров или продуктов конкретному пользователю. Система собирает данные о прошлом поведении пользователей, такие как покупки, рейтинги и отзывы, и анализирует их для выявления закономерностей и сходства между пользователями. На основе этих закономерностей система рекомендует товары, которые понравились или были приобретены другими такими же пользователями в прошлом.\n",
    "\n",
    "Для реализации Коллаборативной фильтрации нам потребуются оценки пользователей [ratings](../datasets/ratings.csv).\n",
    "\n",
    ">userId - id пользователя \\\n",
    "movieId - id фильма \\\n",
    "rating - оценка фильма (от 0 до 5)\\\n",
    "timestamp - время оценки\n",
    "\n",
    "\n",
    "Воспользуйся библиотекой [surprise](https://surpriselib.com/) для обучения модели оценки рейтинга фильма [SVD](https://surprise.readthedocs.io/en/stable/matrix_factorization.html#surprise.prediction_algorithms.matrix_factorization.SVD). Выведи средние значения 'RMSE', 'MAE' на кросс-валидации с параметрами `cv=5`."
   ]
  },
  {
   "cell_type": "code",
   "execution_count": 8,
   "metadata": {},
   "outputs": [
    {
     "name": "stdout",
     "output_type": "stream",
     "text": [
      "Evaluating RMSE, MAE of algorithm SVD on 5 split(s).\n",
      "\n",
      "                  Fold 1  Fold 2  Fold 3  Fold 4  Fold 5  Mean    Std     \n",
      "RMSE (testset)    0.9014  0.9011  0.8955  0.8946  0.8954  0.8976  0.0030  \n",
      "MAE (testset)     0.6914  0.6940  0.6923  0.6875  0.6902  0.6911  0.0022  \n",
      "Fit time          8.95    7.40    8.13    7.73    7.85    8.01    0.52    \n",
      "Test time         1.48    1.11    1.11    1.42    1.27    1.28    0.15    \n",
      "Среднее значение RMSE: 0.898\n",
      "Среднее значение MAE: 0.691\n"
     ]
    }
   ],
   "source": [
    "from surprise import SVD, Reader, Dataset\n",
    "from surprise.model_selection import cross_validate\n",
    "\n",
    "#Загрузка данных о рейтингах\n",
    "ratings_df = pd.read_csv('../datasets/ratings.csv')\n",
    "\n",
    "#Создание объекта Reader для Surprise\n",
    "reader = Reader(rating_scale=(0, 5))\n",
    "\n",
    "#Загрузка данных о рейтингах в объект Dataset для Surprise\n",
    "data = Dataset.load_from_df(ratings_df[['userId', 'movieId', 'rating']], reader)\n",
    "\n",
    "#Создание модели SVD\n",
    "model = SVD()\n",
    "\n",
    "#Проведение перекрестной проверки\n",
    "cv_results = cross_validate(model, data, measures=['RMSE', 'MAE'], cv=5, verbose=True)\n",
    "\n",
    "#Вывод среднего значения RMSE и MAE\n",
    "print(\"Среднее значение RMSE:\", round(cv_results['test_rmse'].mean(), 3))\n",
    "print(\"Среднее значение MAE:\", round(cv_results['test_mae'].mean(), 3))"
   ]
  }
 ],
 "metadata": {
  "colab": {
   "provenance": [],
   "toc_visible": true
  },
  "kernelspec": {
   "display_name": "Python 3 (ipykernel)",
   "language": "python",
   "name": "python3"
  },
  "language_info": {
   "codemirror_mode": {
    "name": "ipython",
    "version": 3
   },
   "file_extension": ".py",
   "mimetype": "text/x-python",
   "name": "python",
   "nbconvert_exporter": "python",
   "pygments_lexer": "ipython3",
   "version": "3.10.11"
  }
 },
 "nbformat": 4,
 "nbformat_minor": 4
}
